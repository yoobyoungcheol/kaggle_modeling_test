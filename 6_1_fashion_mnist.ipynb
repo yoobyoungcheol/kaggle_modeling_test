{
  "nbformat": 4,
  "nbformat_minor": 0,
  "metadata": {
    "colab": {
      "provenance": [],
      "gpuType": "T4",
      "include_colab_link": true
    },
    "kernelspec": {
      "name": "python3",
      "display_name": "Python 3"
    },
    "accelerator": "GPU"
  },
  "cells": [
    {
      "cell_type": "markdown",
      "metadata": {
        "id": "view-in-github",
        "colab_type": "text"
      },
      "source": [
        "<a href=\"https://colab.research.google.com/github/yoobyoungcheol/kaggle_modeling_test/blob/master/6_1_fashion_mnist.ipynb\" target=\"_parent\"><img src=\"https://colab.research.google.com/assets/colab-badge.svg\" alt=\"Open In Colab\"/></a>"
      ]
    },
    {
      "cell_type": "markdown",
      "metadata": {
        "id": "z5xn5yDdg4IN"
      },
      "source": [
        "# 1. 환경 설정"
      ]
    },
    {
      "cell_type": "code",
      "metadata": {
        "id": "9mGljBZMg2V8",
        "outputId": "204c1b36-0157-4b31-d79c-4a340fbc4195",
        "colab": {
          "base_uri": "https://localhost:8080/"
        }
      },
      "source": [
        "# 라이브러리 설정\n",
        "import pandas as pd\n",
        "import numpy as np\n",
        "import tensorflow as tf\n",
        "import random\n",
        "\n",
        "# 랜덤 시드 고정\n",
        "SEED=12\n",
        "random.seed(SEED)\n",
        "np.random.seed(SEED)\n",
        "tf.random.set_seed(SEED)\n",
        "\n",
        "# 구글 드라이브 폴더 마운트\n",
        "from google.colab import drive, files\n",
        "drive.mount('/gdrive')"
      ],
      "execution_count": null,
      "outputs": [
        {
          "output_type": "stream",
          "name": "stdout",
          "text": [
            "Drive already mounted at /gdrive; to attempt to forcibly remount, call drive.mount(\"/gdrive\", force_remount=True).\n"
          ]
        }
      ]
    },
    {
      "cell_type": "markdown",
      "metadata": {
        "id": "Mh6CUYbhlKf1"
      },
      "source": [
        "# 2. 데이터셋 준비"
      ]
    },
    {
      "cell_type": "code",
      "metadata": {
        "id": "fFboBDPEDwTE",
        "outputId": "b76f6200-7d39-4414-9ab8-60acc28aef7e",
        "colab": {
          "base_uri": "https://localhost:8080/"
        }
      },
      "source": [
        "# 데이콘 사이트에서 다운로드한 CSV파일을 읽어오기\n",
        "drive_path = \"/gdrive/My Drive/\"\n",
        "train = pd.read_csv(drive_path + \"mnist_data/train.csv\")\n",
        "test = pd.read_csv(drive_path + \"mnist_data/test.csv\")\n",
        "submission = pd.read_csv(drive_path + \"mnist_data/sample_submission.csv\")\n",
        "\n",
        "print(train.shape, test.shape, submission.shape)"
      ],
      "execution_count": null,
      "outputs": [
        {
          "output_type": "stream",
          "name": "stdout",
          "text": [
            "(60000, 786) (10000, 785) (10000, 2)\n"
          ]
        }
      ]
    },
    {
      "cell_type": "code",
      "metadata": {
        "id": "Ntt_NcCVHFgp",
        "outputId": "e1dd90a5-a5d6-4cb3-fb8a-274d61c4c270",
        "colab": {
          "base_uri": "https://localhost:8080/",
          "height": 235
        }
      },
      "source": [
        "# train 데이터 보기\n",
        "train.head()"
      ],
      "execution_count": null,
      "outputs": [
        {
          "output_type": "execute_result",
          "data": {
            "text/plain": [
              "   index  label  pixel1  pixel2  pixel3  pixel4  pixel5  pixel6  pixel7  \\\n",
              "0      0      2       0       0       0       0       0       0       0   \n",
              "1      1      9       0       0       0       0       0       0       0   \n",
              "2      2      6       0       0       0       0       0       0       0   \n",
              "3      3      0       0       0       0       1       2       0       0   \n",
              "4      4      3       0       0       0       0       0       0       0   \n",
              "\n",
              "   pixel8  ...  pixel775  pixel776  pixel777  pixel778  pixel779  pixel780  \\\n",
              "0       0  ...         0         0         0         0         0         0   \n",
              "1       0  ...         0         0         0         0         0         0   \n",
              "2       5  ...         0         0         0        30        43         0   \n",
              "3       0  ...         3         0         0         0         0         1   \n",
              "4       0  ...         0         0         0         0         0         0   \n",
              "\n",
              "   pixel781  pixel782  pixel783  pixel784  \n",
              "0         0         0         0         0  \n",
              "1         0         0         0         0  \n",
              "2         0         0         0         0  \n",
              "3         0         0         0         0  \n",
              "4         0         0         0         0  \n",
              "\n",
              "[5 rows x 786 columns]"
            ],
            "text/html": [
              "\n",
              "  <div id=\"df-b6fc85a7-d14e-4249-afb4-7310d854fe71\" class=\"colab-df-container\">\n",
              "    <div>\n",
              "<style scoped>\n",
              "    .dataframe tbody tr th:only-of-type {\n",
              "        vertical-align: middle;\n",
              "    }\n",
              "\n",
              "    .dataframe tbody tr th {\n",
              "        vertical-align: top;\n",
              "    }\n",
              "\n",
              "    .dataframe thead th {\n",
              "        text-align: right;\n",
              "    }\n",
              "</style>\n",
              "<table border=\"1\" class=\"dataframe\">\n",
              "  <thead>\n",
              "    <tr style=\"text-align: right;\">\n",
              "      <th></th>\n",
              "      <th>index</th>\n",
              "      <th>label</th>\n",
              "      <th>pixel1</th>\n",
              "      <th>pixel2</th>\n",
              "      <th>pixel3</th>\n",
              "      <th>pixel4</th>\n",
              "      <th>pixel5</th>\n",
              "      <th>pixel6</th>\n",
              "      <th>pixel7</th>\n",
              "      <th>pixel8</th>\n",
              "      <th>...</th>\n",
              "      <th>pixel775</th>\n",
              "      <th>pixel776</th>\n",
              "      <th>pixel777</th>\n",
              "      <th>pixel778</th>\n",
              "      <th>pixel779</th>\n",
              "      <th>pixel780</th>\n",
              "      <th>pixel781</th>\n",
              "      <th>pixel782</th>\n",
              "      <th>pixel783</th>\n",
              "      <th>pixel784</th>\n",
              "    </tr>\n",
              "  </thead>\n",
              "  <tbody>\n",
              "    <tr>\n",
              "      <th>0</th>\n",
              "      <td>0</td>\n",
              "      <td>2</td>\n",
              "      <td>0</td>\n",
              "      <td>0</td>\n",
              "      <td>0</td>\n",
              "      <td>0</td>\n",
              "      <td>0</td>\n",
              "      <td>0</td>\n",
              "      <td>0</td>\n",
              "      <td>0</td>\n",
              "      <td>...</td>\n",
              "      <td>0</td>\n",
              "      <td>0</td>\n",
              "      <td>0</td>\n",
              "      <td>0</td>\n",
              "      <td>0</td>\n",
              "      <td>0</td>\n",
              "      <td>0</td>\n",
              "      <td>0</td>\n",
              "      <td>0</td>\n",
              "      <td>0</td>\n",
              "    </tr>\n",
              "    <tr>\n",
              "      <th>1</th>\n",
              "      <td>1</td>\n",
              "      <td>9</td>\n",
              "      <td>0</td>\n",
              "      <td>0</td>\n",
              "      <td>0</td>\n",
              "      <td>0</td>\n",
              "      <td>0</td>\n",
              "      <td>0</td>\n",
              "      <td>0</td>\n",
              "      <td>0</td>\n",
              "      <td>...</td>\n",
              "      <td>0</td>\n",
              "      <td>0</td>\n",
              "      <td>0</td>\n",
              "      <td>0</td>\n",
              "      <td>0</td>\n",
              "      <td>0</td>\n",
              "      <td>0</td>\n",
              "      <td>0</td>\n",
              "      <td>0</td>\n",
              "      <td>0</td>\n",
              "    </tr>\n",
              "    <tr>\n",
              "      <th>2</th>\n",
              "      <td>2</td>\n",
              "      <td>6</td>\n",
              "      <td>0</td>\n",
              "      <td>0</td>\n",
              "      <td>0</td>\n",
              "      <td>0</td>\n",
              "      <td>0</td>\n",
              "      <td>0</td>\n",
              "      <td>0</td>\n",
              "      <td>5</td>\n",
              "      <td>...</td>\n",
              "      <td>0</td>\n",
              "      <td>0</td>\n",
              "      <td>0</td>\n",
              "      <td>30</td>\n",
              "      <td>43</td>\n",
              "      <td>0</td>\n",
              "      <td>0</td>\n",
              "      <td>0</td>\n",
              "      <td>0</td>\n",
              "      <td>0</td>\n",
              "    </tr>\n",
              "    <tr>\n",
              "      <th>3</th>\n",
              "      <td>3</td>\n",
              "      <td>0</td>\n",
              "      <td>0</td>\n",
              "      <td>0</td>\n",
              "      <td>0</td>\n",
              "      <td>1</td>\n",
              "      <td>2</td>\n",
              "      <td>0</td>\n",
              "      <td>0</td>\n",
              "      <td>0</td>\n",
              "      <td>...</td>\n",
              "      <td>3</td>\n",
              "      <td>0</td>\n",
              "      <td>0</td>\n",
              "      <td>0</td>\n",
              "      <td>0</td>\n",
              "      <td>1</td>\n",
              "      <td>0</td>\n",
              "      <td>0</td>\n",
              "      <td>0</td>\n",
              "      <td>0</td>\n",
              "    </tr>\n",
              "    <tr>\n",
              "      <th>4</th>\n",
              "      <td>4</td>\n",
              "      <td>3</td>\n",
              "      <td>0</td>\n",
              "      <td>0</td>\n",
              "      <td>0</td>\n",
              "      <td>0</td>\n",
              "      <td>0</td>\n",
              "      <td>0</td>\n",
              "      <td>0</td>\n",
              "      <td>0</td>\n",
              "      <td>...</td>\n",
              "      <td>0</td>\n",
              "      <td>0</td>\n",
              "      <td>0</td>\n",
              "      <td>0</td>\n",
              "      <td>0</td>\n",
              "      <td>0</td>\n",
              "      <td>0</td>\n",
              "      <td>0</td>\n",
              "      <td>0</td>\n",
              "      <td>0</td>\n",
              "    </tr>\n",
              "  </tbody>\n",
              "</table>\n",
              "<p>5 rows × 786 columns</p>\n",
              "</div>\n",
              "    <div class=\"colab-df-buttons\">\n",
              "\n",
              "  <div class=\"colab-df-container\">\n",
              "    <button class=\"colab-df-convert\" onclick=\"convertToInteractive('df-b6fc85a7-d14e-4249-afb4-7310d854fe71')\"\n",
              "            title=\"Convert this dataframe to an interactive table.\"\n",
              "            style=\"display:none;\">\n",
              "\n",
              "  <svg xmlns=\"http://www.w3.org/2000/svg\" height=\"24px\" viewBox=\"0 -960 960 960\">\n",
              "    <path d=\"M120-120v-720h720v720H120Zm60-500h600v-160H180v160Zm220 220h160v-160H400v160Zm0 220h160v-160H400v160ZM180-400h160v-160H180v160Zm440 0h160v-160H620v160ZM180-180h160v-160H180v160Zm440 0h160v-160H620v160Z\"/>\n",
              "  </svg>\n",
              "    </button>\n",
              "\n",
              "  <style>\n",
              "    .colab-df-container {\n",
              "      display:flex;\n",
              "      gap: 12px;\n",
              "    }\n",
              "\n",
              "    .colab-df-convert {\n",
              "      background-color: #E8F0FE;\n",
              "      border: none;\n",
              "      border-radius: 50%;\n",
              "      cursor: pointer;\n",
              "      display: none;\n",
              "      fill: #1967D2;\n",
              "      height: 32px;\n",
              "      padding: 0 0 0 0;\n",
              "      width: 32px;\n",
              "    }\n",
              "\n",
              "    .colab-df-convert:hover {\n",
              "      background-color: #E2EBFA;\n",
              "      box-shadow: 0px 1px 2px rgba(60, 64, 67, 0.3), 0px 1px 3px 1px rgba(60, 64, 67, 0.15);\n",
              "      fill: #174EA6;\n",
              "    }\n",
              "\n",
              "    .colab-df-buttons div {\n",
              "      margin-bottom: 4px;\n",
              "    }\n",
              "\n",
              "    [theme=dark] .colab-df-convert {\n",
              "      background-color: #3B4455;\n",
              "      fill: #D2E3FC;\n",
              "    }\n",
              "\n",
              "    [theme=dark] .colab-df-convert:hover {\n",
              "      background-color: #434B5C;\n",
              "      box-shadow: 0px 1px 3px 1px rgba(0, 0, 0, 0.15);\n",
              "      filter: drop-shadow(0px 1px 2px rgba(0, 0, 0, 0.3));\n",
              "      fill: #FFFFFF;\n",
              "    }\n",
              "  </style>\n",
              "\n",
              "    <script>\n",
              "      const buttonEl =\n",
              "        document.querySelector('#df-b6fc85a7-d14e-4249-afb4-7310d854fe71 button.colab-df-convert');\n",
              "      buttonEl.style.display =\n",
              "        google.colab.kernel.accessAllowed ? 'block' : 'none';\n",
              "\n",
              "      async function convertToInteractive(key) {\n",
              "        const element = document.querySelector('#df-b6fc85a7-d14e-4249-afb4-7310d854fe71');\n",
              "        const dataTable =\n",
              "          await google.colab.kernel.invokeFunction('convertToInteractive',\n",
              "                                                    [key], {});\n",
              "        if (!dataTable) return;\n",
              "\n",
              "        const docLinkHtml = 'Like what you see? Visit the ' +\n",
              "          '<a target=\"_blank\" href=https://colab.research.google.com/notebooks/data_table.ipynb>data table notebook</a>'\n",
              "          + ' to learn more about interactive tables.';\n",
              "        element.innerHTML = '';\n",
              "        dataTable['output_type'] = 'display_data';\n",
              "        await google.colab.output.renderOutput(dataTable, element);\n",
              "        const docLink = document.createElement('div');\n",
              "        docLink.innerHTML = docLinkHtml;\n",
              "        element.appendChild(docLink);\n",
              "      }\n",
              "    </script>\n",
              "  </div>\n",
              "\n",
              "\n",
              "<div id=\"df-cce5c05b-f652-4754-a3fa-ba7274dc2859\">\n",
              "  <button class=\"colab-df-quickchart\" onclick=\"quickchart('df-cce5c05b-f652-4754-a3fa-ba7274dc2859')\"\n",
              "            title=\"Suggest charts\"\n",
              "            style=\"display:none;\">\n",
              "\n",
              "<svg xmlns=\"http://www.w3.org/2000/svg\" height=\"24px\"viewBox=\"0 0 24 24\"\n",
              "     width=\"24px\">\n",
              "    <g>\n",
              "        <path d=\"M19 3H5c-1.1 0-2 .9-2 2v14c0 1.1.9 2 2 2h14c1.1 0 2-.9 2-2V5c0-1.1-.9-2-2-2zM9 17H7v-7h2v7zm4 0h-2V7h2v10zm4 0h-2v-4h2v4z\"/>\n",
              "    </g>\n",
              "</svg>\n",
              "  </button>\n",
              "\n",
              "<style>\n",
              "  .colab-df-quickchart {\n",
              "      --bg-color: #E8F0FE;\n",
              "      --fill-color: #1967D2;\n",
              "      --hover-bg-color: #E2EBFA;\n",
              "      --hover-fill-color: #174EA6;\n",
              "      --disabled-fill-color: #AAA;\n",
              "      --disabled-bg-color: #DDD;\n",
              "  }\n",
              "\n",
              "  [theme=dark] .colab-df-quickchart {\n",
              "      --bg-color: #3B4455;\n",
              "      --fill-color: #D2E3FC;\n",
              "      --hover-bg-color: #434B5C;\n",
              "      --hover-fill-color: #FFFFFF;\n",
              "      --disabled-bg-color: #3B4455;\n",
              "      --disabled-fill-color: #666;\n",
              "  }\n",
              "\n",
              "  .colab-df-quickchart {\n",
              "    background-color: var(--bg-color);\n",
              "    border: none;\n",
              "    border-radius: 50%;\n",
              "    cursor: pointer;\n",
              "    display: none;\n",
              "    fill: var(--fill-color);\n",
              "    height: 32px;\n",
              "    padding: 0;\n",
              "    width: 32px;\n",
              "  }\n",
              "\n",
              "  .colab-df-quickchart:hover {\n",
              "    background-color: var(--hover-bg-color);\n",
              "    box-shadow: 0 1px 2px rgba(60, 64, 67, 0.3), 0 1px 3px 1px rgba(60, 64, 67, 0.15);\n",
              "    fill: var(--button-hover-fill-color);\n",
              "  }\n",
              "\n",
              "  .colab-df-quickchart-complete:disabled,\n",
              "  .colab-df-quickchart-complete:disabled:hover {\n",
              "    background-color: var(--disabled-bg-color);\n",
              "    fill: var(--disabled-fill-color);\n",
              "    box-shadow: none;\n",
              "  }\n",
              "\n",
              "  .colab-df-spinner {\n",
              "    border: 2px solid var(--fill-color);\n",
              "    border-color: transparent;\n",
              "    border-bottom-color: var(--fill-color);\n",
              "    animation:\n",
              "      spin 1s steps(1) infinite;\n",
              "  }\n",
              "\n",
              "  @keyframes spin {\n",
              "    0% {\n",
              "      border-color: transparent;\n",
              "      border-bottom-color: var(--fill-color);\n",
              "      border-left-color: var(--fill-color);\n",
              "    }\n",
              "    20% {\n",
              "      border-color: transparent;\n",
              "      border-left-color: var(--fill-color);\n",
              "      border-top-color: var(--fill-color);\n",
              "    }\n",
              "    30% {\n",
              "      border-color: transparent;\n",
              "      border-left-color: var(--fill-color);\n",
              "      border-top-color: var(--fill-color);\n",
              "      border-right-color: var(--fill-color);\n",
              "    }\n",
              "    40% {\n",
              "      border-color: transparent;\n",
              "      border-right-color: var(--fill-color);\n",
              "      border-top-color: var(--fill-color);\n",
              "    }\n",
              "    60% {\n",
              "      border-color: transparent;\n",
              "      border-right-color: var(--fill-color);\n",
              "    }\n",
              "    80% {\n",
              "      border-color: transparent;\n",
              "      border-right-color: var(--fill-color);\n",
              "      border-bottom-color: var(--fill-color);\n",
              "    }\n",
              "    90% {\n",
              "      border-color: transparent;\n",
              "      border-bottom-color: var(--fill-color);\n",
              "    }\n",
              "  }\n",
              "</style>\n",
              "\n",
              "  <script>\n",
              "    async function quickchart(key) {\n",
              "      const quickchartButtonEl =\n",
              "        document.querySelector('#' + key + ' button');\n",
              "      quickchartButtonEl.disabled = true;  // To prevent multiple clicks.\n",
              "      quickchartButtonEl.classList.add('colab-df-spinner');\n",
              "      try {\n",
              "        const charts = await google.colab.kernel.invokeFunction(\n",
              "            'suggestCharts', [key], {});\n",
              "      } catch (error) {\n",
              "        console.error('Error during call to suggestCharts:', error);\n",
              "      }\n",
              "      quickchartButtonEl.classList.remove('colab-df-spinner');\n",
              "      quickchartButtonEl.classList.add('colab-df-quickchart-complete');\n",
              "    }\n",
              "    (() => {\n",
              "      let quickchartButtonEl =\n",
              "        document.querySelector('#df-cce5c05b-f652-4754-a3fa-ba7274dc2859 button');\n",
              "      quickchartButtonEl.style.display =\n",
              "        google.colab.kernel.accessAllowed ? 'block' : 'none';\n",
              "    })();\n",
              "  </script>\n",
              "</div>\n",
              "\n",
              "    </div>\n",
              "  </div>\n"
            ],
            "application/vnd.google.colaboratory.intrinsic+json": {
              "type": "dataframe",
              "variable_name": "train"
            }
          },
          "metadata": {},
          "execution_count": 59
        }
      ]
    },
    {
      "cell_type": "code",
      "metadata": {
        "id": "dqRI05fLHZ40",
        "outputId": "e1b7d452-b297-4ce3-a0d8-7633c4f40e4c",
        "colab": {
          "base_uri": "https://localhost:8080/"
        }
      },
      "source": [
        "# train 데이터를 28*28 이미지로 변환\n",
        "train_images = train.loc[:, 'pixel1':].values.reshape(-1, 28, 28)\n",
        "train_images.shape"
      ],
      "execution_count": null,
      "outputs": [
        {
          "output_type": "execute_result",
          "data": {
            "text/plain": [
              "(60000, 28, 28)"
            ]
          },
          "metadata": {},
          "execution_count": 60
        }
      ]
    },
    {
      "cell_type": "code",
      "source": [
        "print(train_images[0].shape)\n",
        "print()\n",
        "print(train_images[7])"
      ],
      "metadata": {
        "colab": {
          "base_uri": "https://localhost:8080/"
        },
        "id": "x-SLQd2cb-KP",
        "outputId": "dd3a75cd-13c6-42ee-a867-597f60f51962"
      },
      "execution_count": null,
      "outputs": [
        {
          "output_type": "stream",
          "name": "stdout",
          "text": [
            "(28, 28)\n",
            "\n",
            "[[  0   0   0   0   0   0   0   0   0   0   0   0   0   0   0   0   0   0\n",
            "    0   0   0   0   0   0   0   0   0   0]\n",
            " [  0   0   0   0   0   0   0   0   0   0   0   0   0   0   0   0   0   0\n",
            "    0   0   0   0   0   0   0   0   0   0]\n",
            " [  0   0   0   0   0   0   0   0   0   0   0   0   0   0   0   0   0   0\n",
            "    0   0   0   0   0   0   0   0   0   0]\n",
            " [  0   0   0   0   0   0   0   0   0   0   0   0   0   0   0   0   0   0\n",
            "    0   0   0   0   0   0   0   0   0   0]\n",
            " [  0   0   0   0   0   0   0   0   0   0   0   0   0   0   0   0   0   0\n",
            "    0   0   0   0   0   0   0   0   0   0]\n",
            " [  0   0   0   0   0   0   0   0   0   0   0   0   0   0   0   0   0   0\n",
            "    0   0   0   0   0   0   0   0   0   0]\n",
            " [  0   0   0   0   0   0   0   0   0   0   0   0   0   0   0   0   0   0\n",
            "    0   0   0   0   0   0   0   0   0   0]\n",
            " [  0   0   0   0   0   0   0   0   0   0   0   0   0   0   0   0   0   0\n",
            "    0   0   0   0   0   0   0   0   0   0]\n",
            " [  0   0   0   0   0   0   0   0   0   0   0   0   0   0   0   0   0   0\n",
            "    0   0   0   0   0   0   0   0   0   0]\n",
            " [  0   0   0   0   0   0   0   0   0   0   0   0   0   0   0   0   0   0\n",
            "    0   0   0   0   0   0   0   0   0   0]\n",
            " [  0   0   0   0   0   0   0   0   0   1   2   1   0   0  95  46   0   0\n",
            "    0   0   0   0   0   0   0   1   0   0]\n",
            " [  0   0   0   0   0   0   0   1   2   0   0   0  64 204 155 203  40   0\n",
            "    0   0   0   0  91 172 147 247  22   0]\n",
            " [  0   0   0   0   1   2   0   0   0   0  57 154 217  50  15 172 191  33\n",
            "    0 100 229 232 212 147  47  14   0   0]\n",
            " [  0   0   0   0   0   0   0  25  86 168 214 102   0   0   0   0 197 203\n",
            "  183 229 217  99   0   0   0   0   0   0]\n",
            " [  1   2   0   0   0  60 186 229 130  26   0   0   0   2   2   0  23 222\n",
            "  246  22   0   0   0   2   1   7   2   0]\n",
            " [  0   0   0   0   0 231  88   0   0   0   0   0   0   0   0   0   0  22\n",
            "  226 197   0   0   0   0   0   0   0   0]\n",
            " [ 39  70  75  36  91 175   0  32  33  32  26  28  28  36  42  40  44   1\n",
            "  130 254 196  37  85  78  77  77  82  25]\n",
            " [  0  28  53  64  60  46  88  88  96  89  92  92  92  92  92  88  82  85\n",
            "   43  32  96 124 114 113 110 107 119  54]\n",
            " [  0   0   0   0   0   0   0   0   0   0   0   0   0   0   0   0   0   0\n",
            "    0   0   0   0   0   0   0   0   0   0]\n",
            " [  0   0   0   0   0   0   0   0   0   0   0   0   0   0   0   0   0   0\n",
            "    0   0   0   0   0   0   0   0   0   0]\n",
            " [  0   0   0   0   0   0   0   0   0   0   0   0   0   0   0   0   0   0\n",
            "    0   0   0   0   0   0   0   0   0   0]\n",
            " [  0   0   0   0   0   0   0   0   0   0   0   0   0   0   0   0   0   0\n",
            "    0   0   0   0   0   0   0   0   0   0]\n",
            " [  0   0   0   0   0   0   0   0   0   0   0   0   0   0   0   0   0   0\n",
            "    0   0   0   0   0   0   0   0   0   0]\n",
            " [  0   0   0   0   0   0   0   0   0   0   0   0   0   0   0   0   0   0\n",
            "    0   0   0   0   0   0   0   0   0   0]\n",
            " [  0   0   0   0   0   0   0   0   0   0   0   0   0   0   0   0   0   0\n",
            "    0   0   0   0   0   0   0   0   0   0]\n",
            " [  0   0   0   0   0   0   0   0   0   0   0   0   0   0   0   0   0   0\n",
            "    0   0   0   0   0   0   0   0   0   0]\n",
            " [  0   0   0   0   0   0   0   0   0   0   0   0   0   0   0   0   0   0\n",
            "    0   0   0   0   0   0   0   0   0   0]\n",
            " [  0   0   0   0   0   0   0   0   0   0   0   0   0   0   0   0   0   0\n",
            "    0   0   0   0   0   0   0   0   0   0]]\n"
          ]
        }
      ]
    },
    {
      "cell_type": "code",
      "metadata": {
        "id": "BOWBUofPFMZA",
        "outputId": "2b71045d-18bb-446c-996a-c8781730dbc6",
        "colab": {
          "base_uri": "https://localhost:8080/",
          "height": 430
        }
      },
      "source": [
        "# 첫번째 이미지 출력\n",
        "import matplotlib.pyplot as plt\n",
        "plt.imshow(train_images[7], cmap='viridis');"
      ],
      "execution_count": null,
      "outputs": [
        {
          "output_type": "display_data",
          "data": {
            "text/plain": [
              "<Figure size 640x480 with 1 Axes>"
            ],
            "image/png": "[encoded data removed]"
          },
          "metadata": {}
        }
      ]
    },
    {
      "cell_type": "code",
      "metadata": {
        "id": "Z4h0Q0adJSOW",
        "outputId": "2a7ce04b-08cf-4a76-e09b-bb2b2a03c8ac",
        "colab": {
          "base_uri": "https://localhost:8080/"
        }
      },
      "source": [
        "# 목표 레이블\n",
        "y_train = train.loc[:, 'label']\n",
        "y_train.unique()"
      ],
      "execution_count": null,
      "outputs": [
        {
          "output_type": "execute_result",
          "data": {
            "text/plain": [
              "array([2, 9, 6, 0, 3, 4, 5, 8, 7, 1])"
            ]
          },
          "metadata": {},
          "execution_count": 63
        }
      ]
    },
    {
      "cell_type": "code",
      "metadata": {
        "id": "Qi-v-PSZJyY8",
        "outputId": "bfd4dc69-df00-4d59-e69f-f9893baae092",
        "colab": {
          "base_uri": "https://localhost:8080/"
        }
      },
      "source": [
        "# 숫자 레이블을 실제 레이블과 연결하여 확인\n",
        "target_values = {0 : 'T-shirt/top',\n",
        "                 1 : 'Trouser',\n",
        "                 2: 'Pullover',\n",
        "                 3: 'Dress',\n",
        "                 4: 'Coat',\n",
        "                 5: 'Sandal',\n",
        "                 6: 'Shirt',\n",
        "                 7: 'Sneaker',\n",
        "                 8: 'Bag',\n",
        "                 9: 'Ankle boot'}\n",
        "print(y_train[0])\n",
        "print(target_values[y_train[499]])"
      ],
      "execution_count": null,
      "outputs": [
        {
          "output_type": "stream",
          "name": "stdout",
          "text": [
            "2\n",
            "Trouser\n"
          ]
        }
      ]
    },
    {
      "cell_type": "code",
      "metadata": {
        "id": "hox4B8bfKFfe",
        "outputId": "9cb66ef4-72c5-4517-86ea-81125ba7b1b8",
        "colab": {
          "base_uri": "https://localhost:8080/"
        }
      },
      "source": [
        "# test 데이터를 28*28 이미지로 변환\n",
        "test_images = test.loc[:, 'pixel1':].values.reshape(-1, 28, 28)\n",
        "test_images.shape"
      ],
      "execution_count": null,
      "outputs": [
        {
          "output_type": "execute_result",
          "data": {
            "text/plain": [
              "(10000, 28, 28)"
            ]
          },
          "metadata": {},
          "execution_count": 65
        }
      ]
    },
    {
      "cell_type": "code",
      "metadata": {
        "id": "lVdm6w0CFMfr",
        "outputId": "0f3adf8f-3436-4d56-e588-d8aff877ee00",
        "colab": {
          "base_uri": "https://localhost:8080/",
          "height": 430
        }
      },
      "source": [
        "# 500번째 test 이미지를 출력\n",
        "plt.imshow(test_images[499]);"
      ],
      "execution_count": null,
      "outputs": [
        {
          "output_type": "display_data",
          "data": {
            "text/plain": [
              "<Figure size 640x480 with 1 Axes>"
            ],
            "image/png": "[encoded data removed]"
          },
          "metadata": {}
        }
      ]
    },
    {
      "cell_type": "markdown",
      "metadata": {
        "id": "FGwnD0-kjn_-"
      },
      "source": [
        "# 2. 데이터 전처리 (Pre-processing)"
      ]
    },
    {
      "cell_type": "code",
      "metadata": {
        "id": "ZWqn0jN_aPmh",
        "outputId": "7fb3316f-1d35-4192-bf0f-e093205feba2",
        "colab": {
          "base_uri": "https://localhost:8080/"
        }
      },
      "source": [
        "# 피처 스케일 맞추기\n",
        "X_train = train_images / 255.\n",
        "X_test = test_images / 255.\n",
        "print(\"최소값:\", X_train[0].min())\n",
        "print(\"최대값:\", X_train[0].max())"
      ],
      "execution_count": null,
      "outputs": [
        {
          "output_type": "stream",
          "name": "stdout",
          "text": [
            "최소값: 0.0\n",
            "최대값: 1.0\n"
          ]
        }
      ]
    },
    {
      "cell_type": "code",
      "metadata": {
        "id": "l_cRklwzL1sG",
        "outputId": "79778e87-d44a-40cb-b8da-c613354518a5",
        "colab": {
          "base_uri": "https://localhost:8080/"
        }
      },
      "source": [
        "# 채널 차원 추가\n",
        "print(\"변환 전:\", X_train.shape, X_test.shape)\n",
        "print(X_train[10][0])\n",
        "X_train = np.expand_dims(X_train, axis=-1)\n",
        "X_test = np.expand_dims(X_test, axis=-1)\n",
        "print(\"변환 후:\", X_train.shape, X_test.shape)\n",
        "print(X_train[10][0])"
      ],
      "execution_count": null,
      "outputs": [
        {
          "output_type": "stream",
          "name": "stdout",
          "text": [
            "변환 전: (60000, 28, 28) (10000, 28, 28)\n",
            "[0.         0.         0.         0.         0.00392157 0.\n",
            " 0.         0.         0.         0.16078431 0.63529412 0.65490196\n",
            " 0.32941176 0.11764706 0.14901961 0.36862745 0.69411765 0.69019608\n",
            " 0.10196078 0.         0.         0.         0.00392157 0.\n",
            " 0.         0.         0.         0.        ]\n",
            "변환 후: (60000, 28, 28, 1) (10000, 28, 28, 1)\n",
            "[[0.        ]\n",
            " [0.        ]\n",
            " [0.        ]\n",
            " [0.        ]\n",
            " [0.00392157]\n",
            " [0.        ]\n",
            " [0.        ]\n",
            " [0.        ]\n",
            " [0.        ]\n",
            " [0.16078431]\n",
            " [0.63529412]\n",
            " [0.65490196]\n",
            " [0.32941176]\n",
            " [0.11764706]\n",
            " [0.14901961]\n",
            " [0.36862745]\n",
            " [0.69411765]\n",
            " [0.69019608]\n",
            " [0.10196078]\n",
            " [0.        ]\n",
            " [0.        ]\n",
            " [0.        ]\n",
            " [0.00392157]\n",
            " [0.        ]\n",
            " [0.        ]\n",
            " [0.        ]\n",
            " [0.        ]\n",
            " [0.        ]]\n"
          ]
        }
      ]
    },
    {
      "cell_type": "code",
      "metadata": {
        "id": "4vCfErAi1oki",
        "outputId": "aebb18e4-64f2-4809-8499-f3ba83a2ee19",
        "colab": {
          "base_uri": "https://localhost:8080/"
        }
      },
      "source": [
        "# Train - Validation 데이터 구분\n",
        "from sklearn.model_selection import train_test_split\n",
        "X_tr, X_val, y_tr, y_val =  train_test_split(X_train, y_train, test_size=0.2,\n",
        "                                             stratify=y_train,\n",
        "                                             shuffle=True, random_state=SEED)\n",
        "print(\"학습 데이터셋 크기: \", X_tr.shape, y_tr.shape)\n",
        "print(\"검증 데이터셋 크기: \", X_val.shape, y_val.shape)"
      ],
      "execution_count": null,
      "outputs": [
        {
          "output_type": "stream",
          "name": "stdout",
          "text": [
            "학습 데이터셋 크기:  (48000, 28, 28, 1) (48000,)\n",
            "검증 데이터셋 크기:  (12000, 28, 28, 1) (12000,)\n"
          ]
        }
      ]
    },
    {
      "cell_type": "markdown",
      "metadata": {
        "id": "hvs4iBdRmmos"
      },
      "source": [
        "# 3. 모델 구축"
      ]
    },
    {
      "cell_type": "markdown",
      "source": [
        "MLP(다층 퍼셉트론)과 CNN(합성곱 신경망)은 둘 다 인공 신경망의 종류입니다.\n",
        "\n",
        "MLP (다층 퍼셉트론):\n",
        "MLP는 기본적인 피드포워드 신경망으로, 입력층, 은닉층, 그리고 출력층으로 이루어져 있습니다. 각 층은 여러 개의 뉴런으로 구성되어 있고, 각 뉴런은 이전 층의 모든 뉴런과 연결되어 있습니다. 이는 전체적으로 fully connected 구조라고도 불립니다. MLP는 주로 분류 및 회귀 작업에 사용되며, 각 층은 활성화 함수를 사용하여 비선형성을 도입합니다.\n",
        "\n",
        "CNN (합성곱 신경망):\n",
        "CNN은 이미지 처리에 주로 사용되는 신경망 구조입니다. CNN은 합성곱층과 풀링층으로 이루어져 있습니다. 합성곱층은 입력 이미지에서 특징을 추출하는 역할을 하며, 이를 통해 이미지의 공간적인 구조를 유지합니다. 풀링층은 공간적인 차원을 줄이고 계산량을 감소시킵니다. 이후에는 fully connected층이 있어 최종적인 예측을 수행합니다."
      ],
      "metadata": {
        "id": "rW8w_1K7PAQx"
      }
    },
    {
      "cell_type": "markdown",
      "metadata": {
        "id": "3b6kdCByTYRh"
      },
      "source": [
        "### MLP 모델"
      ]
    },
    {
      "cell_type": "code",
      "metadata": {
        "id": "3dxJ3fF5TbI3",
        "outputId": "a1fe8189-6533-4dfe-f92e-119b07111130",
        "colab": {
          "base_uri": "https://localhost:8080/"
        }
      },
      "source": [
        "from tensorflow.keras.models import Sequential\n",
        "from tensorflow.keras.layers import Flatten, Dense\n",
        "mlp_model = Sequential()\n",
        "mlp_model.add(Flatten(input_shape=[28, 28]))\n",
        "mlp_model.add(Dense(units=64, activation='relu'))\n",
        "mlp_model.add(Dense(units=10, activation='softmax'))\n",
        "\n",
        "mlp_model.compile(optimizer='adam',\n",
        "                  loss='sparse_categorical_crossentropy',\n",
        "                  metrics=['acc'])\n",
        "\n",
        "mlp_model.summary()"
      ],
      "execution_count": null,
      "outputs": [
        {
          "output_type": "stream",
          "name": "stdout",
          "text": [
            "Model: \"sequential_8\"\n",
            "_________________________________________________________________\n",
            " Layer (type)                Output Shape              Param #   \n",
            "=================================================================\n",
            " flatten_8 (Flatten)         (None, 784)               0         \n",
            "                                                                 \n",
            " dense_16 (Dense)            (None, 64)                50240     \n",
            "                                                                 \n",
            " dense_17 (Dense)            (None, 10)                650       \n",
            "                                                                 \n",
            "=================================================================\n",
            "Total params: 50890 (198.79 KB)\n",
            "Trainable params: 50890 (198.79 KB)\n",
            "Non-trainable params: 0 (0.00 Byte)\n",
            "_________________________________________________________________\n"
          ]
        }
      ]
    },
    {
      "cell_type": "code",
      "metadata": {
        "id": "_qmL6B11TxE6",
        "outputId": "d132e5a4-8118-4cbf-e077-df11752e44c2",
        "colab": {
          "base_uri": "https://localhost:8080/"
        }
      },
      "source": [
        "mlp_history = mlp_model.fit(X_tr, y_tr, batch_size=64, epochs=20,\n",
        "                        validation_data=(X_val, y_val),\n",
        "                        verbose=2)"
      ],
      "execution_count": null,
      "outputs": [
        {
          "output_type": "stream",
          "name": "stdout",
          "text": [
            "Epoch 1/20\n",
            "750/750 - 3s - loss: 0.5704 - acc: 0.8033 - val_loss: 0.4563 - val_acc: 0.8404 - 3s/epoch - 4ms/step\n",
            "Epoch 2/20\n",
            "750/750 - 3s - loss: 0.4194 - acc: 0.8518 - val_loss: 0.3969 - val_acc: 0.8593 - 3s/epoch - 3ms/step\n",
            "Epoch 3/20\n",
            "750/750 - 2s - loss: 0.3835 - acc: 0.8639 - val_loss: 0.3895 - val_acc: 0.8667 - 2s/epoch - 3ms/step\n",
            "Epoch 4/20\n",
            "750/750 - 2s - loss: 0.3601 - acc: 0.8707 - val_loss: 0.3904 - val_acc: 0.8614 - 2s/epoch - 2ms/step\n",
            "Epoch 5/20\n",
            "750/750 - 2s - loss: 0.3415 - acc: 0.8764 - val_loss: 0.3696 - val_acc: 0.8711 - 2s/epoch - 3ms/step\n",
            "Epoch 6/20\n",
            "750/750 - 2s - loss: 0.3264 - acc: 0.8829 - val_loss: 0.3537 - val_acc: 0.8790 - 2s/epoch - 2ms/step\n",
            "Epoch 7/20\n",
            "750/750 - 2s - loss: 0.3141 - acc: 0.8854 - val_loss: 0.3439 - val_acc: 0.8787 - 2s/epoch - 2ms/step\n",
            "Epoch 8/20\n",
            "750/750 - 2s - loss: 0.3018 - acc: 0.8909 - val_loss: 0.3561 - val_acc: 0.8736 - 2s/epoch - 3ms/step\n",
            "Epoch 9/20\n",
            "750/750 - 2s - loss: 0.2917 - acc: 0.8935 - val_loss: 0.3399 - val_acc: 0.8821 - 2s/epoch - 3ms/step\n",
            "Epoch 10/20\n",
            "750/750 - 2s - loss: 0.2855 - acc: 0.8960 - val_loss: 0.3523 - val_acc: 0.8778 - 2s/epoch - 2ms/step\n",
            "Epoch 11/20\n",
            "750/750 - 2s - loss: 0.2766 - acc: 0.8970 - val_loss: 0.3432 - val_acc: 0.8788 - 2s/epoch - 2ms/step\n",
            "Epoch 12/20\n",
            "750/750 - 2s - loss: 0.2704 - acc: 0.9009 - val_loss: 0.3427 - val_acc: 0.8811 - 2s/epoch - 2ms/step\n",
            "Epoch 13/20\n",
            "750/750 - 2s - loss: 0.2625 - acc: 0.9028 - val_loss: 0.3433 - val_acc: 0.8800 - 2s/epoch - 2ms/step\n",
            "Epoch 14/20\n",
            "750/750 - 2s - loss: 0.2556 - acc: 0.9061 - val_loss: 0.3329 - val_acc: 0.8855 - 2s/epoch - 3ms/step\n",
            "Epoch 15/20\n",
            "750/750 - 3s - loss: 0.2517 - acc: 0.9071 - val_loss: 0.3327 - val_acc: 0.8849 - 3s/epoch - 4ms/step\n",
            "Epoch 16/20\n",
            "750/750 - 2s - loss: 0.2454 - acc: 0.9097 - val_loss: 0.3239 - val_acc: 0.8877 - 2s/epoch - 3ms/step\n",
            "Epoch 17/20\n",
            "750/750 - 2s - loss: 0.2399 - acc: 0.9115 - val_loss: 0.3336 - val_acc: 0.8865 - 2s/epoch - 3ms/step\n",
            "Epoch 18/20\n",
            "750/750 - 2s - loss: 0.2344 - acc: 0.9139 - val_loss: 0.3293 - val_acc: 0.8863 - 2s/epoch - 3ms/step\n",
            "Epoch 19/20\n",
            "750/750 - 2s - loss: 0.2312 - acc: 0.9142 - val_loss: 0.3305 - val_acc: 0.8901 - 2s/epoch - 3ms/step\n",
            "Epoch 20/20\n",
            "750/750 - 3s - loss: 0.2239 - acc: 0.9168 - val_loss: 0.3621 - val_acc: 0.8802 - 3s/epoch - 4ms/step\n"
          ]
        }
      ]
    },
    {
      "cell_type": "code",
      "metadata": {
        "id": "vPN7g4H5VVLn",
        "outputId": "daeac951-b679-42c6-cde1-9fb552241cfc",
        "colab": {
          "base_uri": "https://localhost:8080/"
        }
      },
      "source": [
        "# 손실 함수 그래프\n",
        "def plot_loss_curve(history, total_epoch=10, start=1):\n",
        "    plt.figure(figsize=(5, 5))\n",
        "    plt.plot(range(start, total_epoch + 1),\n",
        "             history.history['loss'][start-1:total_epoch],\n",
        "             label='Train')\n",
        "    plt.plot(range(start, total_epoch + 1),\n",
        "             history.history['val_loss'][start-1:total_epoch],\n",
        "             label='Validation')\n",
        "    plt.xlabel('Epochs')\n",
        "    plt.ylabel('Loss')\n",
        "    plt.legend()\n",
        "    plt.show()\n",
        "\n",
        "plot_loss_curve(history=mlp_history, total_epoch=20, start=1)"
      ],
      "execution_count": null,
      "outputs": [
        {
          "output_type": "display_data",
          "data": {
            "text/plain": [
              "<Figure size 500x500 with 1 Axes>"
            ],
            "image/png": "[encoded data removed]"
          },
          "metadata": {}
        }
      ]
    },
    {
      "cell_type": "markdown",
      "metadata": {
        "id": "UcfQKW-m7CtZ"
      },
      "source": [
        "### CNN 활용"
      ]
    },
    {
      "cell_type": "code",
      "metadata": {
        "id": "64s7-Qw4FOK7",
        "outputId": "bf93a250-3c00-41e0-d788-c4ea3673a109",
        "colab": {
          "base_uri": "https://localhost:8080/"
        }
      },
      "source": [
        "from tensorflow.keras.layers import Conv2D, MaxPooling2D\n",
        "cnn_model = Sequential()\n",
        "cnn_model.add(Conv2D(filters=16, kernel_size=(3, 3),\n",
        "                    activation='relu', input_shape=[28, 28, 1]))\n",
        "cnn_model.add(MaxPooling2D(pool_size=(2, 2)))\n",
        "cnn_model.add(Flatten())\n",
        "cnn_model.add(Dense(units=64, activation='relu'))\n",
        "cnn_model.add(Dense(units=10, activation='softmax'))\n",
        "\n",
        "cnn_model.compile(optimizer='adam',\n",
        "                  loss='sparse_categorical_crossentropy',\n",
        "                  metrics=['acc'])\n",
        "\n",
        "cnn_model.summary()"
      ],
      "execution_count": null,
      "outputs": [
        {
          "output_type": "stream",
          "name": "stdout",
          "text": [
            "Model: \"sequential_9\"\n",
            "_________________________________________________________________\n",
            " Layer (type)                Output Shape              Param #   \n",
            "=================================================================\n",
            " conv2d_6 (Conv2D)           (None, 26, 26, 16)        160       \n",
            "                                                                 \n",
            " max_pooling2d_6 (MaxPoolin  (None, 13, 13, 16)        0         \n",
            " g2D)                                                            \n",
            "                                                                 \n",
            " flatten_9 (Flatten)         (None, 2704)              0         \n",
            "                                                                 \n",
            " dense_18 (Dense)            (None, 64)                173120    \n",
            "                                                                 \n",
            " dense_19 (Dense)            (None, 10)                650       \n",
            "                                                                 \n",
            "=================================================================\n",
            "Total params: 173930 (679.41 KB)\n",
            "Trainable params: 173930 (679.41 KB)\n",
            "Non-trainable params: 0 (0.00 Byte)\n",
            "_________________________________________________________________\n"
          ]
        }
      ]
    },
    {
      "cell_type": "code",
      "metadata": {
        "id": "8i1IRbYJFOfv",
        "outputId": "43a3e3ca-7c3f-42d9-a4f0-f5ba97d96380",
        "colab": {
          "base_uri": "https://localhost:8080/"
        }
      },
      "source": [
        "cnn_history = cnn_model.fit(X_tr, y_tr, batch_size=64, epochs=20,\n",
        "                        validation_data=(X_val, y_val),\n",
        "                        verbose=2)"
      ],
      "execution_count": null,
      "outputs": [
        {
          "output_type": "stream",
          "name": "stdout",
          "text": [
            "Epoch 1/20\n",
            "750/750 - 3s - loss: 0.5042 - acc: 0.8227 - val_loss: 0.3795 - val_acc: 0.8677 - 3s/epoch - 4ms/step\n",
            "Epoch 2/20\n",
            "750/750 - 2s - loss: 0.3457 - acc: 0.8775 - val_loss: 0.3246 - val_acc: 0.8872 - 2s/epoch - 3ms/step\n",
            "Epoch 3/20\n",
            "750/750 - 3s - loss: 0.3001 - acc: 0.8926 - val_loss: 0.3075 - val_acc: 0.8923 - 3s/epoch - 4ms/step\n",
            "Epoch 4/20\n",
            "750/750 - 2s - loss: 0.2704 - acc: 0.9028 - val_loss: 0.2925 - val_acc: 0.8977 - 2s/epoch - 3ms/step\n",
            "Epoch 5/20\n",
            "750/750 - 2s - loss: 0.2477 - acc: 0.9101 - val_loss: 0.2924 - val_acc: 0.8977 - 2s/epoch - 3ms/step\n",
            "Epoch 6/20\n",
            "750/750 - 2s - loss: 0.2300 - acc: 0.9166 - val_loss: 0.2796 - val_acc: 0.8972 - 2s/epoch - 3ms/step\n",
            "Epoch 7/20\n",
            "750/750 - 2s - loss: 0.2111 - acc: 0.9242 - val_loss: 0.2620 - val_acc: 0.9054 - 2s/epoch - 3ms/step\n",
            "Epoch 8/20\n",
            "750/750 - 3s - loss: 0.1948 - acc: 0.9288 - val_loss: 0.2594 - val_acc: 0.9054 - 3s/epoch - 3ms/step\n",
            "Epoch 9/20\n",
            "750/750 - 3s - loss: 0.1829 - acc: 0.9342 - val_loss: 0.2618 - val_acc: 0.9077 - 3s/epoch - 3ms/step\n",
            "Epoch 10/20\n",
            "750/750 - 2s - loss: 0.1705 - acc: 0.9382 - val_loss: 0.2613 - val_acc: 0.9104 - 2s/epoch - 3ms/step\n",
            "Epoch 11/20\n",
            "750/750 - 2s - loss: 0.1564 - acc: 0.9438 - val_loss: 0.2683 - val_acc: 0.9093 - 2s/epoch - 3ms/step\n",
            "Epoch 12/20\n",
            "750/750 - 2s - loss: 0.1480 - acc: 0.9475 - val_loss: 0.3033 - val_acc: 0.8974 - 2s/epoch - 3ms/step\n",
            "Epoch 13/20\n",
            "750/750 - 2s - loss: 0.1343 - acc: 0.9519 - val_loss: 0.2909 - val_acc: 0.9045 - 2s/epoch - 3ms/step\n",
            "Epoch 14/20\n",
            "750/750 - 3s - loss: 0.1250 - acc: 0.9560 - val_loss: 0.2681 - val_acc: 0.9131 - 3s/epoch - 4ms/step\n",
            "Epoch 15/20\n",
            "750/750 - 2s - loss: 0.1142 - acc: 0.9596 - val_loss: 0.2694 - val_acc: 0.9121 - 2s/epoch - 3ms/step\n",
            "Epoch 16/20\n",
            "750/750 - 2s - loss: 0.1060 - acc: 0.9625 - val_loss: 0.2784 - val_acc: 0.9128 - 2s/epoch - 3ms/step\n",
            "Epoch 17/20\n",
            "750/750 - 2s - loss: 0.0997 - acc: 0.9653 - val_loss: 0.2969 - val_acc: 0.9100 - 2s/epoch - 3ms/step\n",
            "Epoch 18/20\n",
            "750/750 - 2s - loss: 0.0921 - acc: 0.9676 - val_loss: 0.3064 - val_acc: 0.9100 - 2s/epoch - 3ms/step\n",
            "Epoch 19/20\n",
            "750/750 - 3s - loss: 0.0829 - acc: 0.9705 - val_loss: 0.3019 - val_acc: 0.9115 - 3s/epoch - 4ms/step\n",
            "Epoch 20/20\n",
            "750/750 - 2s - loss: 0.0759 - acc: 0.9739 - val_loss: 0.3275 - val_acc: 0.9094 - 2s/epoch - 3ms/step\n"
          ]
        }
      ]
    },
    {
      "cell_type": "code",
      "metadata": {
        "id": "ZhM6YIu9VMf2",
        "outputId": "5bad2db8-9486-462b-bcd4-994701284f00",
        "colab": {
          "base_uri": "https://localhost:8080/"
        }
      },
      "source": [
        "plot_loss_curve(history=cnn_history, total_epoch=20, start=1)"
      ],
      "execution_count": null,
      "outputs": [
        {
          "output_type": "display_data",
          "data": {
            "text/plain": [
              "<Figure size 500x500 with 1 Axes>"
            ],
            "image/png": "[encoded data removed]"
          },
          "metadata": {}
        }
      ]
    },
    {
      "cell_type": "code",
      "metadata": {
        "id": "aI2NLCXf97bf",
        "outputId": "4cc31af6-cba2-467c-f43f-ec19b78486cd",
        "colab": {
          "base_uri": "https://localhost:8080/"
        }
      },
      "source": [
        "from tensorflow.keras.layers import Dropout\n",
        "def build_cnn():\n",
        "    model = Sequential()\n",
        "    model.add(Conv2D(filters=16, kernel_size=(3, 3),\n",
        "                     activation='relu', input_shape=[28, 28, 1]))\n",
        "    model.add(MaxPooling2D(pool_size=(2, 2)))\n",
        "    model.add(Flatten())\n",
        "    model.add(Dense(units=64, activation='relu'))\n",
        "    model.add(Dropout(rate=0.5))\n",
        "    model.add(Dense(units=10, activation='softmax'))\n",
        "\n",
        "    model.compile(optimizer='adam',\n",
        "                loss='sparse_categorical_crossentropy',\n",
        "                metrics=['acc'])\n",
        "\n",
        "    return model\n",
        "\n",
        "cnn_model = build_cnn()\n",
        "cnn_model.summary()"
      ],
      "execution_count": null,
      "outputs": [
        {
          "output_type": "stream",
          "name": "stdout",
          "text": [
            "Model: \"sequential_10\"\n",
            "_________________________________________________________________\n",
            " Layer (type)                Output Shape              Param #   \n",
            "=================================================================\n",
            " conv2d_7 (Conv2D)           (None, 26, 26, 16)        160       \n",
            "                                                                 \n",
            " max_pooling2d_7 (MaxPoolin  (None, 13, 13, 16)        0         \n",
            " g2D)                                                            \n",
            "                                                                 \n",
            " flatten_10 (Flatten)        (None, 2704)              0         \n",
            "                                                                 \n",
            " dense_20 (Dense)            (None, 64)                173120    \n",
            "                                                                 \n",
            " dropout_4 (Dropout)         (None, 64)                0         \n",
            "                                                                 \n",
            " dense_21 (Dense)            (None, 10)                650       \n",
            "                                                                 \n",
            "=================================================================\n",
            "Total params: 173930 (679.41 KB)\n",
            "Trainable params: 173930 (679.41 KB)\n",
            "Non-trainable params: 0 (0.00 Byte)\n",
            "_________________________________________________________________\n"
          ]
        }
      ]
    },
    {
      "cell_type": "code",
      "metadata": {
        "id": "jj_3lFwB97n-",
        "colab": {
          "base_uri": "https://localhost:8080/"
        },
        "outputId": "e7ff8de7-4e5b-4a5b-8491-c3d2db3c6b7f"
      },
      "source": [
        "from tensorflow.keras.callbacks import EarlyStopping\n",
        "\n",
        "early_stopping = EarlyStopping(monitor='val_loss',  patience=10)\n",
        "\n",
        "cnn_history = cnn_model.fit(X_tr, y_tr, batch_size=64, epochs=100,\n",
        "                        validation_data=(X_val, y_val),\n",
        "                        callbacks=[early_stopping],\n",
        "                        verbose=2)"
      ],
      "execution_count": null,
      "outputs": [
        {
          "output_type": "stream",
          "name": "stdout",
          "text": [
            "Epoch 1/100\n",
            "750/750 - 4s - loss: 0.6353 - acc: 0.7811 - val_loss: 0.3673 - val_acc: 0.8715 - 4s/epoch - 5ms/step\n",
            "Epoch 2/100\n",
            "750/750 - 2s - loss: 0.4260 - acc: 0.8526 - val_loss: 0.3161 - val_acc: 0.8855 - 2s/epoch - 3ms/step\n",
            "Epoch 3/100\n",
            "750/750 - 3s - loss: 0.3765 - acc: 0.8694 - val_loss: 0.3017 - val_acc: 0.8940 - 3s/epoch - 3ms/step\n",
            "Epoch 4/100\n",
            "750/750 - 3s - loss: 0.3496 - acc: 0.8767 - val_loss: 0.2900 - val_acc: 0.8944 - 3s/epoch - 3ms/step\n",
            "Epoch 5/100\n",
            "750/750 - 2s - loss: 0.3295 - acc: 0.8841 - val_loss: 0.2785 - val_acc: 0.8998 - 2s/epoch - 3ms/step\n",
            "Epoch 6/100\n",
            "750/750 - 2s - loss: 0.3154 - acc: 0.8882 - val_loss: 0.2742 - val_acc: 0.9017 - 2s/epoch - 3ms/step\n",
            "Epoch 7/100\n",
            "750/750 - 2s - loss: 0.3023 - acc: 0.8931 - val_loss: 0.2739 - val_acc: 0.9007 - 2s/epoch - 3ms/step\n",
            "Epoch 8/100\n",
            "750/750 - 2s - loss: 0.2891 - acc: 0.8961 - val_loss: 0.2675 - val_acc: 0.9051 - 2s/epoch - 3ms/step\n",
            "Epoch 9/100\n",
            "750/750 - 3s - loss: 0.2789 - acc: 0.8998 - val_loss: 0.2669 - val_acc: 0.9030 - 3s/epoch - 4ms/step\n",
            "Epoch 10/100\n",
            "750/750 - 2s - loss: 0.2699 - acc: 0.9015 - val_loss: 0.2593 - val_acc: 0.9074 - 2s/epoch - 3ms/step\n",
            "Epoch 11/100\n",
            "750/750 - 2s - loss: 0.2616 - acc: 0.9026 - val_loss: 0.2629 - val_acc: 0.9054 - 2s/epoch - 3ms/step\n",
            "Epoch 12/100\n",
            "750/750 - 2s - loss: 0.2553 - acc: 0.9072 - val_loss: 0.2582 - val_acc: 0.9065 - 2s/epoch - 3ms/step\n",
            "Epoch 13/100\n",
            "750/750 - 3s - loss: 0.2448 - acc: 0.9092 - val_loss: 0.2706 - val_acc: 0.9033 - 3s/epoch - 3ms/step\n",
            "Epoch 14/100\n",
            "750/750 - 3s - loss: 0.2416 - acc: 0.9110 - val_loss: 0.2565 - val_acc: 0.9109 - 3s/epoch - 4ms/step\n",
            "Epoch 15/100\n",
            "750/750 - 2s - loss: 0.2336 - acc: 0.9124 - val_loss: 0.2583 - val_acc: 0.9093 - 2s/epoch - 3ms/step\n",
            "Epoch 16/100\n",
            "750/750 - 2s - loss: 0.2304 - acc: 0.9152 - val_loss: 0.2530 - val_acc: 0.9119 - 2s/epoch - 3ms/step\n",
            "Epoch 17/100\n",
            "750/750 - 2s - loss: 0.2263 - acc: 0.9154 - val_loss: 0.2594 - val_acc: 0.9093 - 2s/epoch - 3ms/step\n",
            "Epoch 18/100\n",
            "750/750 - 3s - loss: 0.2193 - acc: 0.9180 - val_loss: 0.2554 - val_acc: 0.9105 - 3s/epoch - 3ms/step\n",
            "Epoch 19/100\n",
            "750/750 - 3s - loss: 0.2100 - acc: 0.9191 - val_loss: 0.2608 - val_acc: 0.9130 - 3s/epoch - 4ms/step\n",
            "Epoch 20/100\n",
            "750/750 - 2s - loss: 0.2089 - acc: 0.9215 - val_loss: 0.2666 - val_acc: 0.9107 - 2s/epoch - 3ms/step\n",
            "Epoch 21/100\n",
            "750/750 - 2s - loss: 0.2081 - acc: 0.9205 - val_loss: 0.2588 - val_acc: 0.9095 - 2s/epoch - 3ms/step\n",
            "Epoch 22/100\n",
            "750/750 - 2s - loss: 0.1993 - acc: 0.9241 - val_loss: 0.2672 - val_acc: 0.9103 - 2s/epoch - 3ms/step\n",
            "Epoch 23/100\n",
            "750/750 - 2s - loss: 0.1980 - acc: 0.9252 - val_loss: 0.2549 - val_acc: 0.9130 - 2s/epoch - 3ms/step\n",
            "Epoch 24/100\n",
            "750/750 - 3s - loss: 0.1933 - acc: 0.9262 - val_loss: 0.2712 - val_acc: 0.9137 - 3s/epoch - 4ms/step\n",
            "Epoch 25/100\n",
            "750/750 - 2s - loss: 0.1884 - acc: 0.9270 - val_loss: 0.2794 - val_acc: 0.9116 - 2s/epoch - 3ms/step\n",
            "Epoch 26/100\n",
            "750/750 - 2s - loss: 0.1869 - acc: 0.9272 - val_loss: 0.2663 - val_acc: 0.9133 - 2s/epoch - 3ms/step\n"
          ]
        }
      ]
    },
    {
      "cell_type": "code",
      "metadata": {
        "id": "s0LYNpcqESZ0",
        "outputId": "c0c177b9-265f-43fd-d260-0c2777bac3b0",
        "colab": {
          "base_uri": "https://localhost:8080/"
        }
      },
      "source": [
        "# 20 epoch 까지 손실함수와 정확도를 그래프로 나타내기\n",
        "start=1\n",
        "end = 20\n",
        "\n",
        "fig, axes = plt.subplots(1, 2, figsize=(10, 5))\n",
        "\n",
        "axes[0].plot(range(start, end+1), cnn_history.history['loss'][start-1:end],\n",
        "             label='Train')\n",
        "axes[0].plot(range(start, end+1), cnn_history.history['val_loss'][start-1:end],\n",
        "             label='Validation')\n",
        "axes[0].set_title('Loss')\n",
        "axes[0].legend()\n",
        "\n",
        "axes[1].plot(range(start, end+1), cnn_history.history['acc'][start-1:end],\n",
        "             label='Train')\n",
        "axes[1].plot(range(start, end+1), cnn_history.history['val_acc'][start-1:end],\n",
        "             label='Validation')\n",
        "axes[1].set_title('Accuracy')\n",
        "axes[1].legend()\n",
        "plt.show()"
      ],
      "execution_count": null,
      "outputs": [
        {
          "output_type": "display_data",
          "data": {
            "text/plain": [
              "<Figure size 1000x500 with 2 Axes>"
            ],
            "image/png": "[encoded data removed]"
          },
          "metadata": {}
        }
      ]
    },
    {
      "cell_type": "code",
      "metadata": {
        "id": "MIX4VJEJXoVD",
        "outputId": "f59b1eff-3b06-41f3-fb7e-06a167bbd41f",
        "colab": {
          "base_uri": "https://localhost:8080/"
        }
      },
      "source": [
        "cnn_model.evaluate(X_val, y_val)"
      ],
      "execution_count": null,
      "outputs": [
        {
          "output_type": "stream",
          "name": "stdout",
          "text": [
            "375/375 [==============================] - 1s 3ms/step - loss: 0.2663 - acc: 0.9133\n"
          ]
        },
        {
          "output_type": "execute_result",
          "data": {
            "text/plain": [
              "[0.2663465142250061, 0.9133333563804626]"
            ]
          },
          "metadata": {},
          "execution_count": 79
        }
      ]
    },
    {
      "cell_type": "code",
      "metadata": {
        "id": "7JC8web1EzcO",
        "outputId": "b31a713b-80df-41b1-de03-13ff9ac7db01",
        "colab": {
          "base_uri": "https://localhost:8080/"
        }
      },
      "source": [
        "y_pred_proba = cnn_model.predict(X_test)\n",
        "y_pred_classes = np.argmax(y_pred_proba, axis=-1)\n",
        "y_pred_classes[:10]"
      ],
      "execution_count": null,
      "outputs": [
        {
          "output_type": "stream",
          "name": "stdout",
          "text": [
            "313/313 [==============================] - 1s 2ms/step\n"
          ]
        },
        {
          "output_type": "execute_result",
          "data": {
            "text/plain": [
              "array([0, 1, 6, 2, 3, 6, 8, 6, 5, 0])"
            ]
          },
          "metadata": {},
          "execution_count": 80
        }
      ]
    },
    {
      "cell_type": "code",
      "metadata": {
        "id": "ZA8QfHtAEzcZ"
      },
      "source": [
        "submission['label'] = y_pred_classes\n",
        "submission_filepath = drive_path + 'mnist_cnn_submission1.csv'\n",
        "submission.to_csv(submission_filepath, index=False)"
      ],
      "execution_count": null,
      "outputs": []
    },
    {
      "cell_type": "code",
      "metadata": {
        "id": "6_sTC1n96QRY",
        "outputId": "623e18a8-62d4-4520-cc20-39925c2d6f3c",
        "colab": {
          "base_uri": "https://localhost:8080/"
        }
      },
      "source": [
        "# 사용자 정의 콜백 함수\n",
        "from tensorflow.keras.callbacks import Callback\n",
        "\n",
        "class my_callback(Callback):\n",
        "  def on_epoch_end(self, epoch, logs={}):\n",
        "    if(logs.get('val_acc') > 0.91):\n",
        "      self.model.stop_training = True\n",
        "      print(\"\\n\")\n",
        "      print(\"목표 정확도 달성: 검증 정확도 %.4f\" % logs.get('val_acc'))\n",
        "\n",
        "my_callback = my_callback()\n",
        "\n",
        "# Best Model 저장\n",
        "from tensorflow.keras.callbacks import ModelCheckpoint\n",
        "\n",
        "best_model_path = drive_path + \"best_cnn_model.h5\"\n",
        "save_best_model = ModelCheckpoint(best_model_path, monitor='val_loss',\n",
        "                                  save_best_only=True, save_weights_only=False)\n",
        "\n",
        "# CNN 모델 학습\n",
        "cnn_model = build_cnn()\n",
        "cnn_history = cnn_model.fit(X_tr, y_tr, batch_size=64, epochs=100,\n",
        "                        validation_data=(X_val, y_val),\n",
        "                        callbacks=[my_callback, save_best_model],\n",
        "                        verbose=2)"
      ],
      "execution_count": null,
      "outputs": [
        {
          "output_type": "stream",
          "name": "stdout",
          "text": [
            "Epoch 1/100\n",
            "750/750 - 3s - loss: 0.7417 - acc: 0.7365 - val_loss: 0.4218 - val_acc: 0.8520 - 3s/epoch - 4ms/step\n",
            "Epoch 2/100\n"
          ]
        },
        {
          "output_type": "stream",
          "name": "stderr",
          "text": [
            "/usr/local/lib/python3.10/dist-packages/keras/src/engine/training.py:3103: UserWarning: You are saving your model as an HDF5 file via `model.save()`. This file format is considered legacy. We recommend using instead the native Keras format, e.g. `model.save('my_model.keras')`.\n",
            "  saving_api.save_model(\n"
          ]
        },
        {
          "output_type": "stream",
          "name": "stdout",
          "text": [
            "750/750 - 3s - loss: 0.5122 - acc: 0.8207 - val_loss: 0.3581 - val_acc: 0.8749 - 3s/epoch - 3ms/step\n",
            "Epoch 3/100\n",
            "750/750 - 2s - loss: 0.4485 - acc: 0.8413 - val_loss: 0.3268 - val_acc: 0.8840 - 2s/epoch - 3ms/step\n",
            "Epoch 4/100\n",
            "750/750 - 3s - loss: 0.4066 - acc: 0.8571 - val_loss: 0.3123 - val_acc: 0.8876 - 3s/epoch - 4ms/step\n",
            "Epoch 5/100\n",
            "750/750 - 2s - loss: 0.3816 - acc: 0.8648 - val_loss: 0.2951 - val_acc: 0.8940 - 2s/epoch - 3ms/step\n",
            "Epoch 6/100\n",
            "750/750 - 3s - loss: 0.3601 - acc: 0.8730 - val_loss: 0.2884 - val_acc: 0.8963 - 3s/epoch - 3ms/step\n",
            "Epoch 7/100\n",
            "750/750 - 3s - loss: 0.3437 - acc: 0.8779 - val_loss: 0.2807 - val_acc: 0.8980 - 3s/epoch - 3ms/step\n",
            "Epoch 8/100\n",
            "750/750 - 3s - loss: 0.3323 - acc: 0.8811 - val_loss: 0.2757 - val_acc: 0.9018 - 3s/epoch - 3ms/step\n",
            "Epoch 9/100\n",
            "750/750 - 3s - loss: 0.3215 - acc: 0.8841 - val_loss: 0.2709 - val_acc: 0.9042 - 3s/epoch - 4ms/step\n",
            "Epoch 10/100\n",
            "750/750 - 2s - loss: 0.3111 - acc: 0.8896 - val_loss: 0.2741 - val_acc: 0.9022 - 2s/epoch - 3ms/step\n",
            "Epoch 11/100\n",
            "750/750 - 2s - loss: 0.3021 - acc: 0.8910 - val_loss: 0.2677 - val_acc: 0.9069 - 2s/epoch - 3ms/step\n",
            "Epoch 12/100\n",
            "750/750 - 2s - loss: 0.2937 - acc: 0.8916 - val_loss: 0.2705 - val_acc: 0.9046 - 2s/epoch - 3ms/step\n",
            "Epoch 13/100\n",
            "750/750 - 2s - loss: 0.2848 - acc: 0.8959 - val_loss: 0.2685 - val_acc: 0.9028 - 2s/epoch - 3ms/step\n",
            "Epoch 14/100\n",
            "750/750 - 4s - loss: 0.2752 - acc: 0.9008 - val_loss: 0.2676 - val_acc: 0.9072 - 4s/epoch - 5ms/step\n",
            "Epoch 15/100\n",
            "750/750 - 2s - loss: 0.2710 - acc: 0.8995 - val_loss: 0.2651 - val_acc: 0.9067 - 2s/epoch - 3ms/step\n",
            "Epoch 16/100\n",
            "750/750 - 2s - loss: 0.2666 - acc: 0.9015 - val_loss: 0.2671 - val_acc: 0.9063 - 2s/epoch - 3ms/step\n",
            "Epoch 17/100\n",
            "750/750 - 2s - loss: 0.2588 - acc: 0.9043 - val_loss: 0.2634 - val_acc: 0.9087 - 2s/epoch - 3ms/step\n",
            "Epoch 18/100\n",
            "750/750 - 2s - loss: 0.2537 - acc: 0.9068 - val_loss: 0.2631 - val_acc: 0.9074 - 2s/epoch - 3ms/step\n",
            "Epoch 19/100\n",
            "750/750 - 3s - loss: 0.2499 - acc: 0.9069 - val_loss: 0.2718 - val_acc: 0.9094 - 3s/epoch - 4ms/step\n",
            "Epoch 20/100\n",
            "\n",
            "\n",
            "목표 정확도 달성: 검증 정확도 0.9112\n",
            "750/750 - 2s - loss: 0.2400 - acc: 0.9087 - val_loss: 0.2647 - val_acc: 0.9112 - 2s/epoch - 3ms/step\n"
          ]
        }
      ]
    },
    {
      "cell_type": "code",
      "metadata": {
        "id": "U-tLx50BmX3V",
        "outputId": "de0fa568-ae0f-4aab-fb94-f6cf61d63b29",
        "colab": {
          "base_uri": "https://localhost:8080/"
        }
      },
      "source": [
        "from tensorflow.keras.models import load_model\n",
        "# ModelCheckPoint에 저장해둔 모델을 로딩\n",
        "best_model = load_model(drive_path + \"best_cnn_model.h5\")\n",
        "best_model.summary()"
      ],
      "execution_count": null,
      "outputs": [
        {
          "output_type": "stream",
          "name": "stdout",
          "text": [
            "Model: \"sequential_11\"\n",
            "_________________________________________________________________\n",
            " Layer (type)                Output Shape              Param #   \n",
            "=================================================================\n",
            " conv2d_8 (Conv2D)           (None, 26, 26, 16)        160       \n",
            "                                                                 \n",
            " max_pooling2d_8 (MaxPoolin  (None, 13, 13, 16)        0         \n",
            " g2D)                                                            \n",
            "                                                                 \n",
            " flatten_11 (Flatten)        (None, 2704)              0         \n",
            "                                                                 \n",
            " dense_22 (Dense)            (None, 64)                173120    \n",
            "                                                                 \n",
            " dropout_5 (Dropout)         (None, 64)                0         \n",
            "                                                                 \n",
            " dense_23 (Dense)            (None, 10)                650       \n",
            "                                                                 \n",
            "=================================================================\n",
            "Total params: 173930 (679.41 KB)\n",
            "Trainable params: 173930 (679.41 KB)\n",
            "Non-trainable params: 0 (0.00 Byte)\n",
            "_________________________________________________________________\n"
          ]
        }
      ]
    },
    {
      "cell_type": "code",
      "metadata": {
        "id": "xkatmY1kmFmI",
        "colab": {
          "base_uri": "https://localhost:8080/"
        },
        "outputId": "ed9b58b7-de26-4a72-b7a5-08418965ff11"
      },
      "source": [
        "y_pred_proba = best_model.predict(X_test)\n",
        "y_pred_classes = np.argmax(y_pred_proba, axis=-1)\n",
        "submission['label'] = y_pred_classes\n",
        "submission_filepath = drive_path + 'mnist_cnn_submission2.csv'\n",
        "submission.to_csv(submission_filepath, index=False)"
      ],
      "execution_count": null,
      "outputs": [
        {
          "output_type": "stream",
          "name": "stdout",
          "text": [
            "313/313 [==============================] - 1s 2ms/step\n"
          ]
        }
      ]
    },
    {
      "cell_type": "code",
      "source": [],
      "metadata": {
        "id": "mTU3DQgLRJRX"
      },
      "execution_count": null,
      "outputs": []
    }
  ]
}